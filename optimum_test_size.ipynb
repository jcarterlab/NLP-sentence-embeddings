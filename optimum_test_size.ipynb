{
 "cells": [
  {
   "cell_type": "markdown",
   "id": "949ea94b-fe31-4e36-a450-2d9d22a247d5",
   "metadata": {},
   "source": [
    "# Sentence encoders: Optimum test-size"
   ]
  },
  {
   "cell_type": "markdown",
   "id": "33ee072e-9578-4af2-8b13-4fc56a1a5474",
   "metadata": {},
   "source": [
    "This notebook examines the optimum test size when using tensorflow sentence encoders on a [Kaggle essay scores](https://www.kaggle.com/competitions/learning-agency-lab-automated-essay-scoring-2) dataset of ~17,000 texts. Varying the test size (0.1-0.7) shows us that on this small dataset, sentence enocoder models need all the data they can get."
   ]
  },
  {
   "cell_type": "code",
   "execution_count": 1,
   "id": "5a9104aa-d3ee-4030-b29f-a3b63c59df01",
   "metadata": {},
   "outputs": [
    {
     "data": {
      "text/html": [
       "<div>\n",
       "<style scoped>\n",
       "    .dataframe tbody tr th:only-of-type {\n",
       "        vertical-align: middle;\n",
       "    }\n",
       "\n",
       "    .dataframe tbody tr th {\n",
       "        vertical-align: top;\n",
       "    }\n",
       "\n",
       "    .dataframe thead th {\n",
       "        text-align: right;\n",
       "    }\n",
       "</style>\n",
       "<table border=\"1\" class=\"dataframe\">\n",
       "  <thead>\n",
       "    <tr style=\"text-align: right;\">\n",
       "      <th></th>\n",
       "      <th>essay_id</th>\n",
       "      <th>full_text</th>\n",
       "      <th>score</th>\n",
       "    </tr>\n",
       "  </thead>\n",
       "  <tbody>\n",
       "    <tr>\n",
       "      <th>0</th>\n",
       "      <td>000d118</td>\n",
       "      <td>Many people have car where they live. The thin...</td>\n",
       "      <td>3</td>\n",
       "    </tr>\n",
       "    <tr>\n",
       "      <th>1</th>\n",
       "      <td>000fe60</td>\n",
       "      <td>I am a scientist at NASA that is discussing th...</td>\n",
       "      <td>3</td>\n",
       "    </tr>\n",
       "    <tr>\n",
       "      <th>2</th>\n",
       "      <td>001ab80</td>\n",
       "      <td>People always wish they had the same technolog...</td>\n",
       "      <td>4</td>\n",
       "    </tr>\n",
       "    <tr>\n",
       "      <th>3</th>\n",
       "      <td>001bdc0</td>\n",
       "      <td>We all heard about Venus, the planet without a...</td>\n",
       "      <td>4</td>\n",
       "    </tr>\n",
       "    <tr>\n",
       "      <th>4</th>\n",
       "      <td>002ba53</td>\n",
       "      <td>Dear, State Senator\\n\\nThis is a letter to arg...</td>\n",
       "      <td>3</td>\n",
       "    </tr>\n",
       "  </tbody>\n",
       "</table>\n",
       "</div>"
      ],
      "text/plain": [
       "  essay_id                                          full_text  score\n",
       "0  000d118  Many people have car where they live. The thin...      3\n",
       "1  000fe60  I am a scientist at NASA that is discussing th...      3\n",
       "2  001ab80  People always wish they had the same technolog...      4\n",
       "3  001bdc0  We all heard about Venus, the planet without a...      4\n",
       "4  002ba53  Dear, State Senator\\n\\nThis is a letter to arg...      3"
      ]
     },
     "execution_count": 1,
     "metadata": {},
     "output_type": "execute_result"
    }
   ],
   "source": [
    "import pandas as pd\n",
    "import numpy as np\n",
    "\n",
    "train = pd.read_csv('data/train.csv')\n",
    "train.head()"
   ]
  },
  {
   "cell_type": "markdown",
   "id": "c80bbd42-77ea-4d23-a052-69c482c412a2",
   "metadata": {},
   "source": [
    "## Preprocess text"
   ]
  },
  {
   "cell_type": "markdown",
   "id": "30950f63-ef50-4cc8-9422-55715bb36b1b",
   "metadata": {},
   "source": [
    "Common preprocessing steps are applied to simplify the texts and reduce potential noise."
   ]
  },
  {
   "cell_type": "code",
   "execution_count": 2,
   "id": "c506b32b-643d-4fcd-8dff-da1af1c16889",
   "metadata": {},
   "outputs": [],
   "source": [
    "import re\n",
    "import string\n",
    "import nltk\n",
    "from nltk.tokenize import word_tokenize\n",
    "from nltk.corpus import stopwords\n",
    "from nltk.stem import WordNetLemmatizer\n",
    "\n",
    "def preprocess_text(text):\n",
    "\n",
    "    # removes unprintable characters\n",
    "    unprintable = r\"[^\\w\\s]\"\n",
    "    text = re.sub(unprintable, '', text)\n",
    "\n",
    "    # removes non-breaking space characters\n",
    "    non_breaking = '\\xa0'\n",
    "    text = re.sub(non_breaking, ' ', text)\n",
    "\n",
    "    # removes newline characters\n",
    "    newline = '\\n'\n",
    "    text = re.sub(newline, ' ', text)\n",
    "\n",
    "    # removes punctuation\n",
    "    text = text.translate(str.maketrans('', '', string.punctuation))\n",
    "    \n",
    "    # lowercase the text\n",
    "    text = text.lower()\n",
    "    \n",
    "    # tokenization\n",
    "    tokens = word_tokenize(text)\n",
    "    \n",
    "    # remove stopwords\n",
    "    stop_words = set(stopwords.words('english'))\n",
    "    tokens = [token for token in tokens if token not in stop_words]\n",
    "    \n",
    "    # lemmatization\n",
    "    lemmatizer = WordNetLemmatizer()\n",
    "    tokens = [lemmatizer.lemmatize(token) for token in tokens]\n",
    "    \n",
    "    # join tokens back into a string\n",
    "    preprocessed_text = ' '.join(tokens)\n",
    "    \n",
    "    return preprocessed_text"
   ]
  },
  {
   "cell_type": "markdown",
   "id": "74f912ef-9844-4697-8bdd-3979685a378a",
   "metadata": {},
   "source": [
    "## Functions"
   ]
  },
  {
   "cell_type": "markdown",
   "id": "008ce65e-50bf-4235-aa41-e0e3adf0577c",
   "metadata": {},
   "source": [
    "Tensorflow universal sentence encoder 4 is first loaded-in. A number of functions are then defined to split the essay texts in into the first x number of words, obtain the embeddings, fit a model and then record the time and accuracy results."
   ]
  },
  {
   "cell_type": "code",
   "execution_count": 3,
   "id": "340d34ba-8b24-4d10-a950-984d2e7eeb11",
   "metadata": {},
   "outputs": [
    {
     "name": "stdout",
     "output_type": "stream",
     "text": [
      "WARNING:tensorflow:From C:\\Users\\Jack-\\AppData\\Local\\Programs\\Python\\Python311\\Lib\\site-packages\\tf_keras\\src\\losses.py:2976: The name tf.losses.sparse_softmax_cross_entropy is deprecated. Please use tf.compat.v1.losses.sparse_softmax_cross_entropy instead.\n",
      "\n",
      "WARNING:tensorflow:From C:\\Users\\Jack-\\AppData\\Local\\Programs\\Python\\Python311\\Lib\\site-packages\\tensorflow_hub\\resolver.py:120: The name tf.gfile.MakeDirs is deprecated. Please use tf.io.gfile.makedirs instead.\n",
      "\n"
     ]
    },
    {
     "name": "stderr",
     "output_type": "stream",
     "text": [
      "WARNING:tensorflow:From C:\\Users\\Jack-\\AppData\\Local\\Programs\\Python\\Python311\\Lib\\site-packages\\tensorflow_hub\\resolver.py:120: The name tf.gfile.MakeDirs is deprecated. Please use tf.io.gfile.makedirs instead.\n",
      "\n"
     ]
    },
    {
     "name": "stdout",
     "output_type": "stream",
     "text": [
      "WARNING:tensorflow:From C:\\Users\\Jack-\\AppData\\Local\\Programs\\Python\\Python311\\Lib\\site-packages\\tensorflow_hub\\module_v2.py:126: The name tf.saved_model.load_v2 is deprecated. Please use tf.compat.v2.saved_model.load instead.\n",
      "\n"
     ]
    },
    {
     "name": "stderr",
     "output_type": "stream",
     "text": [
      "WARNING:tensorflow:From C:\\Users\\Jack-\\AppData\\Local\\Programs\\Python\\Python311\\Lib\\site-packages\\tensorflow_hub\\module_v2.py:126: The name tf.saved_model.load_v2 is deprecated. Please use tf.compat.v2.saved_model.load instead.\n",
      "\n"
     ]
    }
   ],
   "source": [
    "import tensorflow as tf\n",
    "import tensorflow_hub as hub\n",
    "from sklearn.model_selection import train_test_split\n",
    "from tensorflow.keras.utils import to_categorical\n",
    "from tensorflow.keras.models import Sequential\n",
    "from tensorflow.keras.layers import Dense, Input, Embedding\n",
    "from sklearn.metrics import cohen_kappa_score\n",
    "\n",
    "# downloads the model to obtain embeddings \n",
    "model_url = \"https://tfhub.dev/google/universal-sentence-encoder/4\"\n",
    "encoder_model = hub.load(model_url)\n",
    "\n",
    "# returns the essay embeddings\n",
    "def encode_sentences(essays):\n",
    "    embeddings = encoder_model(essays)\n",
    "    return embeddings.numpy()\n",
    "\n",
    "# creates the model\n",
    "def create_model(embedding_dim):\n",
    "    model = Sequential([\n",
    "          Input(shape=(embedding_dim,)),\n",
    "          Dense(64, activation='relu'),\n",
    "          Dense(32, activation='relu'),\n",
    "          Dense(7, activation='softmax')\n",
    "      ])\n",
    "    model.compile(optimizer='adam', loss='categorical_crossentropy', metrics=['accuracy'])\n",
    "    return model\n",
    "\n",
    "# fits the model on the training data\n",
    "def fit_model(embeddings, scores, test_size):\n",
    "\n",
    "    # splits the data into train and validation sets\n",
    "    x_train, x_val, y_train, y_val = train_test_split(embeddings, scores, test_size=test_size)\n",
    "\n",
    "    # creates and embedding dim and then creates the model with it\n",
    "    embedding_dim = embeddings[0].shape[0]\n",
    "    model = create_model(embedding_dim)\n",
    "\n",
    "    # converts essay score to one hot encodings\n",
    "    y_train_one_hot = to_categorical(y_train)\n",
    "    y_val_one_hot = to_categorical(y_val)\n",
    "\n",
    "    # fits the model\n",
    "    model.fit(x_train, y_train_one_hot, epochs=12, batch_size=32, validation_data=(x_val, y_val_one_hot)) \n",
    "    \n",
    "    return model, x_val, y_val_one_hot\n",
    "\n",
    "# returns the cohen kappa score for the validation set\n",
    "def evaluate_model(model, x_val, y_val_one_hot, accuracy_df, test_size):\n",
    "    predictions = model.predict(x_val)\n",
    "    converted_preds = [np.argmax(pred) for pred in predictions]\n",
    "    converted_y_val = [np.argmax(y) for y in y_val_one_hot]\n",
    "    accuracy = round(cohen_kappa_score(converted_preds, converted_y_val, weights='quadratic'), 2)\n",
    "    accuracy_df.loc[0, str(test_size)] = accuracy\n",
    "    return accuracy_df"
   ]
  },
  {
   "cell_type": "markdown",
   "id": "61924bb8-13ff-47dd-b014-35f486e9f8f9",
   "metadata": {},
   "source": [
    "## Get embeddings"
   ]
  },
  {
   "cell_type": "markdown",
   "id": "9e958b5e-825a-4a31-bd7f-5129d2748cc4",
   "metadata": {},
   "source": [
    "Here the embeddings are obtained and models fitted as part of a loop depending on the number of essay_length values given. "
   ]
  },
  {
   "cell_type": "code",
   "execution_count": 4,
   "id": "0ff76dd7-a438-48c1-b273-ffe9adf72ce0",
   "metadata": {},
   "outputs": [
    {
     "name": "stdout",
     "output_type": "stream",
     "text": [
      "Epoch 1/12\n",
      "\u001b[1m487/487\u001b[0m \u001b[32m━━━━━━━━━━━━━━━━━━━━\u001b[0m\u001b[37m\u001b[0m \u001b[1m6s\u001b[0m 6ms/step - accuracy: 0.4313 - loss: 1.4023 - val_accuracy: 0.5361 - val_loss: 1.0759\n",
      "Epoch 2/12\n",
      "\u001b[1m487/487\u001b[0m \u001b[32m━━━━━━━━━━━━━━━━━━━━\u001b[0m\u001b[37m\u001b[0m \u001b[1m2s\u001b[0m 4ms/step - accuracy: 0.5369 - loss: 1.0620 - val_accuracy: 0.5673 - val_loss: 0.9954\n",
      "Epoch 3/12\n",
      "\u001b[1m487/487\u001b[0m \u001b[32m━━━━━━━━━━━━━━━━━━━━\u001b[0m\u001b[37m\u001b[0m \u001b[1m2s\u001b[0m 4ms/step - accuracy: 0.5611 - loss: 1.0036 - val_accuracy: 0.5835 - val_loss: 0.9662\n",
      "Epoch 4/12\n",
      "\u001b[1m487/487\u001b[0m \u001b[32m━━━━━━━━━━━━━━━━━━━━\u001b[0m\u001b[37m\u001b[0m \u001b[1m2s\u001b[0m 4ms/step - accuracy: 0.5722 - loss: 0.9663 - val_accuracy: 0.5875 - val_loss: 0.9427\n",
      "Epoch 5/12\n",
      "\u001b[1m487/487\u001b[0m \u001b[32m━━━━━━━━━━━━━━━━━━━━\u001b[0m\u001b[37m\u001b[0m \u001b[1m2s\u001b[0m 4ms/step - accuracy: 0.5844 - loss: 0.9494 - val_accuracy: 0.5789 - val_loss: 0.9315\n",
      "Epoch 6/12\n",
      "\u001b[1m487/487\u001b[0m \u001b[32m━━━━━━━━━━━━━━━━━━━━\u001b[0m\u001b[37m\u001b[0m \u001b[1m2s\u001b[0m 4ms/step - accuracy: 0.5896 - loss: 0.9316 - val_accuracy: 0.5869 - val_loss: 0.9304\n",
      "Epoch 7/12\n",
      "\u001b[1m487/487\u001b[0m \u001b[32m━━━━━━━━━━━━━━━━━━━━\u001b[0m\u001b[37m\u001b[0m \u001b[1m2s\u001b[0m 4ms/step - accuracy: 0.5899 - loss: 0.9254 - val_accuracy: 0.5858 - val_loss: 0.9219\n",
      "Epoch 8/12\n",
      "\u001b[1m487/487\u001b[0m \u001b[32m━━━━━━━━━━━━━━━━━━━━\u001b[0m\u001b[37m\u001b[0m \u001b[1m2s\u001b[0m 4ms/step - accuracy: 0.6056 - loss: 0.8990 - val_accuracy: 0.5945 - val_loss: 0.9262\n",
      "Epoch 9/12\n",
      "\u001b[1m487/487\u001b[0m \u001b[32m━━━━━━━━━━━━━━━━━━━━\u001b[0m\u001b[37m\u001b[0m \u001b[1m2s\u001b[0m 4ms/step - accuracy: 0.6012 - loss: 0.8952 - val_accuracy: 0.5864 - val_loss: 0.9265\n",
      "Epoch 10/12\n",
      "\u001b[1m487/487\u001b[0m \u001b[32m━━━━━━━━━━━━━━━━━━━━\u001b[0m\u001b[37m\u001b[0m \u001b[1m2s\u001b[0m 5ms/step - accuracy: 0.6158 - loss: 0.8819 - val_accuracy: 0.5760 - val_loss: 0.9294\n",
      "Epoch 11/12\n",
      "\u001b[1m487/487\u001b[0m \u001b[32m━━━━━━━━━━━━━━━━━━━━\u001b[0m\u001b[37m\u001b[0m \u001b[1m2s\u001b[0m 4ms/step - accuracy: 0.6178 - loss: 0.8693 - val_accuracy: 0.5881 - val_loss: 0.9212\n",
      "Epoch 12/12\n",
      "\u001b[1m487/487\u001b[0m \u001b[32m━━━━━━━━━━━━━━━━━━━━\u001b[0m\u001b[37m\u001b[0m \u001b[1m2s\u001b[0m 4ms/step - accuracy: 0.6126 - loss: 0.8658 - val_accuracy: 0.5916 - val_loss: 0.9247\n",
      "\u001b[1m55/55\u001b[0m \u001b[32m━━━━━━━━━━━━━━━━━━━━\u001b[0m\u001b[37m\u001b[0m \u001b[1m0s\u001b[0m 4ms/step\n",
      "Epoch 1/12\n",
      "\u001b[1m379/379\u001b[0m \u001b[32m━━━━━━━━━━━━━━━━━━━━\u001b[0m\u001b[37m\u001b[0m \u001b[1m5s\u001b[0m 6ms/step - accuracy: 0.4129 - loss: 1.4584 - val_accuracy: 0.5118 - val_loss: 1.1178\n",
      "Epoch 2/12\n",
      "\u001b[1m379/379\u001b[0m \u001b[32m━━━━━━━━━━━━━━━━━━━━\u001b[0m\u001b[37m\u001b[0m \u001b[1m2s\u001b[0m 4ms/step - accuracy: 0.5202 - loss: 1.1012 - val_accuracy: 0.5515 - val_loss: 1.0296\n",
      "Epoch 3/12\n",
      "\u001b[1m379/379\u001b[0m \u001b[32m━━━━━━━━━━━━━━━━━━━━\u001b[0m\u001b[37m\u001b[0m \u001b[1m2s\u001b[0m 5ms/step - accuracy: 0.5574 - loss: 1.0165 - val_accuracy: 0.5679 - val_loss: 1.0049\n",
      "Epoch 4/12\n",
      "\u001b[1m379/379\u001b[0m \u001b[32m━━━━━━━━━━━━━━━━━━━━\u001b[0m\u001b[37m\u001b[0m \u001b[1m2s\u001b[0m 4ms/step - accuracy: 0.5746 - loss: 0.9832 - val_accuracy: 0.5694 - val_loss: 0.9807\n",
      "Epoch 5/12\n",
      "\u001b[1m379/379\u001b[0m \u001b[32m━━━━━━━━━━━━━━━━━━━━\u001b[0m\u001b[37m\u001b[0m \u001b[1m2s\u001b[0m 4ms/step - accuracy: 0.5844 - loss: 0.9587 - val_accuracy: 0.5744 - val_loss: 0.9717\n",
      "Epoch 6/12\n",
      "\u001b[1m379/379\u001b[0m \u001b[32m━━━━━━━━━━━━━━━━━━━━\u001b[0m\u001b[37m\u001b[0m \u001b[1m2s\u001b[0m 4ms/step - accuracy: 0.5876 - loss: 0.9369 - val_accuracy: 0.5644 - val_loss: 0.9871\n",
      "Epoch 7/12\n",
      "\u001b[1m379/379\u001b[0m \u001b[32m━━━━━━━━━━━━━━━━━━━━\u001b[0m\u001b[37m\u001b[0m \u001b[1m2s\u001b[0m 5ms/step - accuracy: 0.5896 - loss: 0.9291 - val_accuracy: 0.5690 - val_loss: 0.9775\n",
      "Epoch 8/12\n",
      "\u001b[1m379/379\u001b[0m \u001b[32m━━━━━━━━━━━━━━━━━━━━\u001b[0m\u001b[37m\u001b[0m \u001b[1m2s\u001b[0m 5ms/step - accuracy: 0.5987 - loss: 0.9222 - val_accuracy: 0.5667 - val_loss: 0.9879\n",
      "Epoch 9/12\n",
      "\u001b[1m379/379\u001b[0m \u001b[32m━━━━━━━━━━━━━━━━━━━━\u001b[0m\u001b[37m\u001b[0m \u001b[1m2s\u001b[0m 5ms/step - accuracy: 0.5950 - loss: 0.9130 - val_accuracy: 0.5727 - val_loss: 0.9674\n",
      "Epoch 10/12\n",
      "\u001b[1m379/379\u001b[0m \u001b[32m━━━━━━━━━━━━━━━━━━━━\u001b[0m\u001b[37m\u001b[0m \u001b[1m2s\u001b[0m 5ms/step - accuracy: 0.6112 - loss: 0.8966 - val_accuracy: 0.5802 - val_loss: 0.9600\n",
      "Epoch 11/12\n",
      "\u001b[1m379/379\u001b[0m \u001b[32m━━━━━━━━━━━━━━━━━━━━\u001b[0m\u001b[37m\u001b[0m \u001b[1m2s\u001b[0m 5ms/step - accuracy: 0.6109 - loss: 0.8938 - val_accuracy: 0.5738 - val_loss: 0.9641\n",
      "Epoch 12/12\n",
      "\u001b[1m379/379\u001b[0m \u001b[32m━━━━━━━━━━━━━━━━━━━━\u001b[0m\u001b[37m\u001b[0m \u001b[1m2s\u001b[0m 4ms/step - accuracy: 0.6087 - loss: 0.8821 - val_accuracy: 0.5764 - val_loss: 0.9643\n",
      "\u001b[1m163/163\u001b[0m \u001b[32m━━━━━━━━━━━━━━━━━━━━\u001b[0m\u001b[37m\u001b[0m \u001b[1m1s\u001b[0m 3ms/step\n",
      "Epoch 1/12\n",
      "\u001b[1m271/271\u001b[0m \u001b[32m━━━━━━━━━━━━━━━━━━━━\u001b[0m\u001b[37m\u001b[0m \u001b[1m5s\u001b[0m 7ms/step - accuracy: 0.4079 - loss: 1.4819 - val_accuracy: 0.5135 - val_loss: 1.1318\n",
      "Epoch 2/12\n",
      "\u001b[1m271/271\u001b[0m \u001b[32m━━━━━━━━━━━━━━━━━━━━\u001b[0m\u001b[37m\u001b[0m \u001b[1m2s\u001b[0m 5ms/step - accuracy: 0.5129 - loss: 1.1046 - val_accuracy: 0.5388 - val_loss: 1.0583\n",
      "Epoch 3/12\n",
      "\u001b[1m271/271\u001b[0m \u001b[32m━━━━━━━━━━━━━━━━━━━━\u001b[0m\u001b[37m\u001b[0m \u001b[1m3s\u001b[0m 6ms/step - accuracy: 0.5532 - loss: 1.0279 - val_accuracy: 0.5423 - val_loss: 1.0481\n",
      "Epoch 4/12\n",
      "\u001b[1m271/271\u001b[0m \u001b[32m━━━━━━━━━━━━━━━━━━━━\u001b[0m\u001b[37m\u001b[0m \u001b[1m2s\u001b[0m 5ms/step - accuracy: 0.5789 - loss: 0.9884 - val_accuracy: 0.5499 - val_loss: 1.0103\n",
      "Epoch 5/12\n",
      "\u001b[1m271/271\u001b[0m \u001b[32m━━━━━━━━━━━━━━━━━━━━\u001b[0m\u001b[37m\u001b[0m \u001b[1m2s\u001b[0m 5ms/step - accuracy: 0.5768 - loss: 0.9756 - val_accuracy: 0.5633 - val_loss: 1.0006\n",
      "Epoch 6/12\n",
      "\u001b[1m271/271\u001b[0m \u001b[32m━━━━━━━━━━━━━━━━━━━━\u001b[0m\u001b[37m\u001b[0m \u001b[1m2s\u001b[0m 6ms/step - accuracy: 0.5828 - loss: 0.9472 - val_accuracy: 0.5625 - val_loss: 0.9892\n",
      "Epoch 7/12\n",
      "\u001b[1m271/271\u001b[0m \u001b[32m━━━━━━━━━━━━━━━━━━━━\u001b[0m\u001b[37m\u001b[0m \u001b[1m2s\u001b[0m 6ms/step - accuracy: 0.5955 - loss: 0.9307 - val_accuracy: 0.5609 - val_loss: 1.0020\n",
      "Epoch 8/12\n",
      "\u001b[1m271/271\u001b[0m \u001b[32m━━━━━━━━━━━━━━━━━━━━\u001b[0m\u001b[37m\u001b[0m \u001b[1m2s\u001b[0m 6ms/step - accuracy: 0.6075 - loss: 0.9053 - val_accuracy: 0.5603 - val_loss: 0.9963\n",
      "Epoch 9/12\n",
      "\u001b[1m271/271\u001b[0m \u001b[32m━━━━━━━━━━━━━━━━━━━━\u001b[0m\u001b[37m\u001b[0m \u001b[1m2s\u001b[0m 5ms/step - accuracy: 0.6111 - loss: 0.9012 - val_accuracy: 0.5631 - val_loss: 0.9944\n",
      "Epoch 10/12\n",
      "\u001b[1m271/271\u001b[0m \u001b[32m━━━━━━━━━━━━━━━━━━━━\u001b[0m\u001b[37m\u001b[0m \u001b[1m2s\u001b[0m 6ms/step - accuracy: 0.6086 - loss: 0.8988 - val_accuracy: 0.5590 - val_loss: 0.9861\n",
      "Epoch 11/12\n",
      "\u001b[1m271/271\u001b[0m \u001b[32m━━━━━━━━━━━━━━━━━━━━\u001b[0m\u001b[37m\u001b[0m \u001b[1m2s\u001b[0m 6ms/step - accuracy: 0.6145 - loss: 0.8892 - val_accuracy: 0.5584 - val_loss: 0.9887\n",
      "Epoch 12/12\n",
      "\u001b[1m271/271\u001b[0m \u001b[32m━━━━━━━━━━━━━━━━━━━━\u001b[0m\u001b[37m\u001b[0m \u001b[1m2s\u001b[0m 5ms/step - accuracy: 0.6180 - loss: 0.8697 - val_accuracy: 0.5675 - val_loss: 0.9710\n",
      "\u001b[1m271/271\u001b[0m \u001b[32m━━━━━━━━━━━━━━━━━━━━\u001b[0m\u001b[37m\u001b[0m \u001b[1m1s\u001b[0m 3ms/step\n",
      "Epoch 1/12\n",
      "\u001b[1m217/217\u001b[0m \u001b[32m━━━━━━━━━━━━━━━━━━━━\u001b[0m\u001b[37m\u001b[0m \u001b[1m5s\u001b[0m 9ms/step - accuracy: 0.3860 - loss: 1.5148 - val_accuracy: 0.4853 - val_loss: 1.1898\n",
      "Epoch 2/12\n",
      "\u001b[1m217/217\u001b[0m \u001b[32m━━━━━━━━━━━━━━━━━━━━\u001b[0m\u001b[37m\u001b[0m \u001b[1m1s\u001b[0m 7ms/step - accuracy: 0.5080 - loss: 1.1468 - val_accuracy: 0.5187 - val_loss: 1.1098\n",
      "Epoch 3/12\n",
      "\u001b[1m217/217\u001b[0m \u001b[32m━━━━━━━━━━━━━━━━━━━━\u001b[0m\u001b[37m\u001b[0m \u001b[1m2s\u001b[0m 7ms/step - accuracy: 0.5392 - loss: 1.0647 - val_accuracy: 0.5353 - val_loss: 1.0560\n",
      "Epoch 4/12\n",
      "\u001b[1m217/217\u001b[0m \u001b[32m━━━━━━━━━━━━━━━━━━━━\u001b[0m\u001b[37m\u001b[0m \u001b[1m2s\u001b[0m 7ms/step - accuracy: 0.5683 - loss: 1.0050 - val_accuracy: 0.5460 - val_loss: 1.0343\n",
      "Epoch 5/12\n",
      "\u001b[1m217/217\u001b[0m \u001b[32m━━━━━━━━━━━━━━━━━━━━\u001b[0m\u001b[37m\u001b[0m \u001b[1m2s\u001b[0m 7ms/step - accuracy: 0.5749 - loss: 0.9798 - val_accuracy: 0.5423 - val_loss: 1.0347\n",
      "Epoch 6/12\n",
      "\u001b[1m217/217\u001b[0m \u001b[32m━━━━━━━━━━━━━━━━━━━━\u001b[0m\u001b[37m\u001b[0m \u001b[1m1s\u001b[0m 6ms/step - accuracy: 0.5782 - loss: 0.9663 - val_accuracy: 0.5519 - val_loss: 1.0149\n",
      "Epoch 7/12\n",
      "\u001b[1m217/217\u001b[0m \u001b[32m━━━━━━━━━━━━━━━━━━━━\u001b[0m\u001b[37m\u001b[0m \u001b[1m1s\u001b[0m 7ms/step - accuracy: 0.5906 - loss: 0.9450 - val_accuracy: 0.5507 - val_loss: 1.0106\n",
      "Epoch 8/12\n",
      "\u001b[1m217/217\u001b[0m \u001b[32m━━━━━━━━━━━━━━━━━━━━\u001b[0m\u001b[37m\u001b[0m \u001b[1m2s\u001b[0m 7ms/step - accuracy: 0.6006 - loss: 0.9265 - val_accuracy: 0.5585 - val_loss: 1.0047\n",
      "Epoch 9/12\n",
      "\u001b[1m217/217\u001b[0m \u001b[32m━━━━━━━━━━━━━━━━━━━━\u001b[0m\u001b[37m\u001b[0m \u001b[1m3s\u001b[0m 7ms/step - accuracy: 0.6091 - loss: 0.9017 - val_accuracy: 0.5531 - val_loss: 1.0160\n",
      "Epoch 10/12\n",
      "\u001b[1m217/217\u001b[0m \u001b[32m━━━━━━━━━━━━━━━━━━━━\u001b[0m\u001b[37m\u001b[0m \u001b[1m2s\u001b[0m 7ms/step - accuracy: 0.6159 - loss: 0.9007 - val_accuracy: 0.5429 - val_loss: 1.0349\n",
      "Epoch 11/12\n",
      "\u001b[1m217/217\u001b[0m \u001b[32m━━━━━━━━━━━━━━━━━━━━\u001b[0m\u001b[37m\u001b[0m \u001b[1m1s\u001b[0m 7ms/step - accuracy: 0.6187 - loss: 0.8840 - val_accuracy: 0.5508 - val_loss: 1.0118\n",
      "Epoch 12/12\n",
      "\u001b[1m217/217\u001b[0m \u001b[32m━━━━━━━━━━━━━━━━━━━━\u001b[0m\u001b[37m\u001b[0m \u001b[1m2s\u001b[0m 7ms/step - accuracy: 0.6379 - loss: 0.8573 - val_accuracy: 0.5490 - val_loss: 1.0115\n",
      "\u001b[1m325/325\u001b[0m \u001b[32m━━━━━━━━━━━━━━━━━━━━\u001b[0m\u001b[37m\u001b[0m \u001b[1m1s\u001b[0m 3ms/step\n",
      "Epoch 1/12\n",
      "\u001b[1m163/163\u001b[0m \u001b[32m━━━━━━━━━━━━━━━━━━━━\u001b[0m\u001b[37m\u001b[0m \u001b[1m5s\u001b[0m 12ms/step - accuracy: 0.3835 - loss: 1.5922 - val_accuracy: 0.4957 - val_loss: 1.1893\n",
      "Epoch 2/12\n",
      "\u001b[1m163/163\u001b[0m \u001b[32m━━━━━━━━━━━━━━━━━━━━\u001b[0m\u001b[37m\u001b[0m \u001b[1m1s\u001b[0m 8ms/step - accuracy: 0.5128 - loss: 1.1439 - val_accuracy: 0.5221 - val_loss: 1.1068\n",
      "Epoch 3/12\n",
      "\u001b[1m163/163\u001b[0m \u001b[32m━━━━━━━━━━━━━━━━━━━━\u001b[0m\u001b[37m\u001b[0m \u001b[1m1s\u001b[0m 8ms/step - accuracy: 0.5459 - loss: 1.0650 - val_accuracy: 0.5311 - val_loss: 1.0636\n",
      "Epoch 4/12\n",
      "\u001b[1m163/163\u001b[0m \u001b[32m━━━━━━━━━━━━━━━━━━━━\u001b[0m\u001b[37m\u001b[0m \u001b[1m1s\u001b[0m 8ms/step - accuracy: 0.5576 - loss: 1.0251 - val_accuracy: 0.5422 - val_loss: 1.0463\n",
      "Epoch 5/12\n",
      "\u001b[1m163/163\u001b[0m \u001b[32m━━━━━━━━━━━━━━━━━━━━\u001b[0m\u001b[37m\u001b[0m \u001b[1m1s\u001b[0m 8ms/step - accuracy: 0.5616 - loss: 1.0011 - val_accuracy: 0.5498 - val_loss: 1.0262\n",
      "Epoch 6/12\n",
      "\u001b[1m163/163\u001b[0m \u001b[32m━━━━━━━━━━━━━━━━━━━━\u001b[0m\u001b[37m\u001b[0m \u001b[1m1s\u001b[0m 8ms/step - accuracy: 0.5863 - loss: 0.9478 - val_accuracy: 0.5471 - val_loss: 1.0343\n",
      "Epoch 7/12\n",
      "\u001b[1m163/163\u001b[0m \u001b[32m━━━━━━━━━━━━━━━━━━━━\u001b[0m\u001b[37m\u001b[0m \u001b[1m1s\u001b[0m 8ms/step - accuracy: 0.5901 - loss: 0.9475 - val_accuracy: 0.5515 - val_loss: 1.0233\n",
      "Epoch 8/12\n",
      "\u001b[1m163/163\u001b[0m \u001b[32m━━━━━━━━━━━━━━━━━━━━\u001b[0m\u001b[37m\u001b[0m \u001b[1m1s\u001b[0m 8ms/step - accuracy: 0.6132 - loss: 0.9147 - val_accuracy: 0.5532 - val_loss: 1.0190\n",
      "Epoch 9/12\n",
      "\u001b[1m163/163\u001b[0m \u001b[32m━━━━━━━━━━━━━━━━━━━━\u001b[0m\u001b[37m\u001b[0m \u001b[1m1s\u001b[0m 8ms/step - accuracy: 0.5999 - loss: 0.9107 - val_accuracy: 0.5573 - val_loss: 1.0076\n",
      "Epoch 10/12\n",
      "\u001b[1m163/163\u001b[0m \u001b[32m━━━━━━━━━━━━━━━━━━━━\u001b[0m\u001b[37m\u001b[0m \u001b[1m1s\u001b[0m 8ms/step - accuracy: 0.6205 - loss: 0.8843 - val_accuracy: 0.5573 - val_loss: 1.0103\n",
      "Epoch 11/12\n",
      "\u001b[1m163/163\u001b[0m \u001b[32m━━━━━━━━━━━━━━━━━━━━\u001b[0m\u001b[37m\u001b[0m \u001b[1m1s\u001b[0m 8ms/step - accuracy: 0.6090 - loss: 0.9031 - val_accuracy: 0.5568 - val_loss: 1.0127\n",
      "Epoch 12/12\n",
      "\u001b[1m163/163\u001b[0m \u001b[32m━━━━━━━━━━━━━━━━━━━━\u001b[0m\u001b[37m\u001b[0m \u001b[1m1s\u001b[0m 9ms/step - accuracy: 0.6316 - loss: 0.8733 - val_accuracy: 0.5555 - val_loss: 1.0272\n",
      "\u001b[1m379/379\u001b[0m \u001b[32m━━━━━━━━━━━━━━━━━━━━\u001b[0m\u001b[37m\u001b[0m \u001b[1m1s\u001b[0m 3ms/step\n"
     ]
    }
   ],
   "source": [
    "# preprocesses the texts\n",
    "train['full_text'] = [preprocess_text(x) for x in train['full_text']]\n",
    "\n",
    "# converts scores to a numpy array for use in the model\n",
    "scores = np.array(train['score'])\n",
    "\n",
    "# creates a new dataframe to store accuracy results\n",
    "accuracy_df = pd.DataFrame()\n",
    "\n",
    "# limits each essay to the first 300 words\n",
    "texts = [' '.join(x.split()[0:300]) for x in train['full_text']]\n",
    "\n",
    "# retrieves the embeddings for each essay\n",
    "embeddings = encode_sentences(texts)\n",
    "\n",
    "# loops through each test size value, fitting a model, evaluating accuracy and appending the result to the accuracy_df\n",
    "test_sizes = [0.1, 0.3, 0.5, 0.6, 0.7]\n",
    "for test_size in test_sizes:\n",
    "    model, x_val, y_val_one_hot = fit_model(embeddings, scores, test_size)\n",
    "    evaluate_model(model, x_val, y_val_one_hot, accuracy_df, test_size)"
   ]
  },
  {
   "cell_type": "markdown",
   "id": "7789901b-f06a-41fa-919b-a26abfa5dcab",
   "metadata": {},
   "source": [
    "## Visualization"
   ]
  },
  {
   "cell_type": "markdown",
   "id": "34b68593-2dd6-45ab-8f8b-98193a79119e",
   "metadata": {},
   "source": [
    "The time and accuracy results are visualized as lineplots. We can see that both begin to plateau after the first ~250 words of each essay. "
   ]
  },
  {
   "cell_type": "code",
   "execution_count": 5,
   "id": "b551f112-dbfa-40c5-b051-c4e73b87551d",
   "metadata": {},
   "outputs": [
    {
     "data": {
      "image/png": "[encoded data removed]",
      "text/plain": [
       "<Figure size 1000x600 with 1 Axes>"
      ]
     },
     "metadata": {},
     "output_type": "display_data"
    }
   ],
   "source": [
    "import matplotlib.pyplot as plt\n",
    "import seaborn as sns\n",
    "\n",
    "# transposes the dataframe to get it in the right shape for plotting\n",
    "accuracy_df = accuracy_df.transpose()\n",
    "\n",
    "# plots the results as a lineplot in searborn\n",
    "fig = plt.figure(figsize=(10, 6));\n",
    "sns.lineplot(x=accuracy_df.index, y=accuracy_df.iloc[:,0], data=accuracy_df);\n",
    "plt.title('Test set size', size=30);\n",
    "plt.ylabel('Cohen Kappa Score');\n",
    "plt.xlabel('Test set size');"
   ]
  }
 ],
 "metadata": {
  "kernelspec": {
   "display_name": "Python 3 (ipykernel)",
   "language": "python",
   "name": "python3"
  },
  "language_info": {
   "codemirror_mode": {
    "name": "ipython",
    "version": 3
   },
   "file_extension": ".py",
   "mimetype": "text/x-python",
   "name": "python",
   "nbconvert_exporter": "python",
   "pygments_lexer": "ipython3",
   "version": "3.11.7"
  }
 },
 "nbformat": 4,
 "nbformat_minor": 5
}
